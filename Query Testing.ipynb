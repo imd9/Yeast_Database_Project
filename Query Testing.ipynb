{
 "cells": [
  {
   "cell_type": "code",
   "execution_count": 1,
   "id": "30686e66-a371-4ca2-9a58-a8c7e1610dce",
   "metadata": {},
   "outputs": [],
   "source": [
    "import pymysql\n",
    "import pandas as pd\n",
    "import Brewery\n",
    "import json"
   ]
  },
  {
   "cell_type": "code",
   "execution_count": 42,
   "id": "844852da-c0bf-4a28-8c61-c1ea07472831",
   "metadata": {},
   "outputs": [],
   "source": [
    "data_map = Brewery.get_muts(10)"
   ]
  },
  {
   "cell_type": "code",
   "execution_count": 43,
   "id": "ff1164dc-b5f8-4870-b92a-9b33b51bce44",
   "metadata": {},
   "outputs": [],
   "source": [
    "get_sums = \"\"\"\n",
    "select count(*), sum(generations), sum(queryable)\n",
    "from Isolate\n",
    "where sid = 10\n",
    "\"\"\"\n",
    "\n",
    "out = Brewery.do_query(get_sums)"
   ]
  },
  {
   "cell_type": "code",
   "execution_count": 48,
   "id": "d353d2ea-773c-456b-b54f-b9fa29326b8f",
   "metadata": {},
   "outputs": [
    {
     "data": {
      "text/plain": [
       "((8, 6090.0, Decimal('178105520')),)"
      ]
     },
     "execution_count": 48,
     "metadata": {},
     "output_type": "execute_result"
    }
   ],
   "source": [
    "out"
   ]
  },
  {
   "cell_type": "code",
   "execution_count": 44,
   "id": "ab7115b7-d813-4291-b77a-181113ec0dcb",
   "metadata": {
    "tags": []
   },
   "outputs": [],
   "source": [
    "count, sumG, sumQ = [int(o) for o in out[0]]"
   ]
  },
  {
   "cell_type": "code",
   "execution_count": 28,
   "id": "1b6311e3-baf1-4dc4-98d2-919bcd37a27c",
   "metadata": {},
   "outputs": [],
   "source": [
    "MM = [\n",
    "    [\"A→G\",\"T→C\"],\n",
    "    [\"G→A\",\"C→T\"],\n",
    "    [\"A→T\",\"T→A\"],\n",
    "    [\"A→C\",\"T→G\"],\n",
    "    [\"G→T\",\"C→A\"],\n",
    "    [\"G→C\",\"C→G\"],\n",
    "    [\"+A\",\"+T\"],\n",
    "    [\"+G\",\"+C\"],\n",
    "    [\"-A\",\"-T\"],\n",
    "    [\"-G\",\"-C\"],\n",
    "    [\">1 bp Insertion\"],\n",
    "    [\">1 bp Deletion\"]\n",
    "]\n",
    "\n",
    "xcon = [0.62, 0.38, 0.62, 0.62, 0.38, 0.38, 0.62, 0.38, 0.62, 0.38, 1, 1]"
   ]
  },
  {
   "cell_type": "code",
   "execution_count": 45,
   "id": "d70a4c2a-1065-445b-97d4-1983c1d00e49",
   "metadata": {},
   "outputs": [],
   "source": [
    "from collections import defaultdict as dd\n",
    "\n",
    "sum_map = dd(lambda : dd(int))\n",
    "for flag in data_map:\n",
    "    flag_set = data_map[flag]\n",
    "    for mut in flag_set:\n",
    "        mut_set = flag_set[mut]\n",
    "        for xrm in mut_set:\n",
    "            for (b, c) in xrm:\n",
    "                sum_map[flag][mut] += c"
   ]
  },
  {
   "cell_type": "code",
   "execution_count": 53,
   "id": "ee060a6b-6d90-4496-b52e-165df1c55383",
   "metadata": {
    "tags": []
   },
   "outputs": [],
   "source": [
    "rate_map = dd(lambda: dd(int))\n",
    "for flag in [\"Point Mutation\", \"Loss of Heterozygosity\", \"Ambiguous Change\"]:\n",
    "    for G, x in zip(MM, xcon):\n",
    "        C = sum([sum_map[flag][g] for g in G])\n",
    "        key = squish(G)\n",
    "        rate = C*count/x/sumG/sumQ*10**9\n",
    "        rate_map[flag][key] = rate"
   ]
  },
  {
   "cell_type": "code",
   "execution_count": 37,
   "id": "b1c291af-62b3-4735-ba45-35dfca0df184",
   "metadata": {},
   "outputs": [],
   "source": [
    "def squish(G):\n",
    "    if \"→\" in G[0]:\n",
    "        ((a0, a1), (b0, b1)) = [g.split(\"→\") for g in G]\n",
    "        return f\"{a0}{b0}→{a1}{b1}\"\n",
    "    if \"+\" in G[0] or \"-\" in G[0]:\n",
    "        return G[0] + G[1][1]\n",
    "    return G[0]"
   ]
  },
  {
   "cell_type": "code",
   "execution_count": 2,
   "id": "a021d186-1312-4412-958e-8e105b20975c",
   "metadata": {},
   "outputs": [
    {
     "data": {
      "text/plain": [
       "[[17, 26698, 20402460, 590944285625, 26698, 23155, 2658, 0]]"
      ]
     },
     "execution_count": 2,
     "metadata": {},
     "output_type": "execute_result"
    }
   ],
   "source": [
    "Brewery.get_strain_summary(17)"
   ]
  },
  {
   "cell_type": "code",
   "execution_count": 1,
   "id": "134a57e2-b37a-4e42-b9cb-4e851d6ba224",
   "metadata": {},
   "outputs": [],
   "source": [
    "import decimal"
   ]
  },
  {
   "cell_type": "code",
   "execution_count": 3,
   "id": "e9b26b4c-1e06-4387-be96-774db1a6d1c2",
   "metadata": {},
   "outputs": [],
   "source": [
    "x = decimal.Decimal(10)"
   ]
  },
  {
   "cell_type": "code",
   "execution_count": 5,
   "id": "e47a3cfb-9752-4bcd-8008-685040740f08",
   "metadata": {},
   "outputs": [
    {
     "data": {
      "text/plain": [
       "True"
      ]
     },
     "execution_count": 5,
     "metadata": {},
     "output_type": "execute_result"
    }
   ],
   "source": [
    "type(x) == decimal.Decimal"
   ]
  },
  {
   "cell_type": "code",
   "execution_count": 7,
   "id": "26dcb05b-2bf4-4b09-bcba-b85ac1cd03d0",
   "metadata": {},
   "outputs": [
    {
     "data": {
      "text/plain": [
       "True"
      ]
     },
     "execution_count": 7,
     "metadata": {},
     "output_type": "execute_result"
    }
   ],
   "source": [
    "decimal.Decimal(0.5) % 1 > 0"
   ]
  }
 ],
 "metadata": {
  "kernelspec": {
   "display_name": "Python 3 (ipykernel)",
   "language": "python",
   "name": "python3"
  },
  "language_info": {
   "codemirror_mode": {
    "name": "ipython",
    "version": 3
   },
   "file_extension": ".py",
   "mimetype": "text/x-python",
   "name": "python",
   "nbconvert_exporter": "python",
   "pygments_lexer": "ipython3",
   "version": "3.9.7"
  }
 },
 "nbformat": 4,
 "nbformat_minor": 5
}
